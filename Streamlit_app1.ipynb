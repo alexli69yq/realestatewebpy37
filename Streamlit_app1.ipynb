{
 "cells": [
  {
   "cell_type": "code",
   "execution_count": 1,
   "metadata": {
    "scrolled": true
   },
   "outputs": [
    {
     "name": "stdout",
     "output_type": "stream",
     "text": [
      "Collecting streamlit\n",
      "  Using cached streamlit-1.18.1-py2.py3-none-any.whl (9.6 MB)\n",
      "Requirement already satisfied: protobuf<4,>=3.12 in e:\\winpy\\wpy64-3771\\python-3.7.7.amd64\\lib\\site-packages (from streamlit) (3.12.1)\n",
      "Collecting validators>=0.2\n",
      "  Using cached validators-0.20.0.tar.gz (30 kB)\n"
     ]
    },
    {
     "name": "stderr",
     "output_type": "stream",
     "text": [
      "\n",
      "[notice] A new release of pip available: 22.2.2 -> 23.0\n",
      "[notice] To update, run: python.exe -m pip install --upgrade pip\n"
     ]
    },
    {
     "name": "stdout",
     "output_type": "stream",
     "text": [
      "  Preparing metadata (setup.py): started\n",
      "  Preparing metadata (setup.py): finished with status 'done'\n",
      "Requirement already satisfied: cachetools>=4.0 in e:\\winpy\\wpy64-3771\\python-3.7.7.amd64\\lib\\site-packages (from streamlit) (4.0.0)\n",
      "Requirement already satisfied: click>=7.0 in e:\\winpy\\wpy64-3771\\python-3.7.7.amd64\\lib\\site-packages (from streamlit) (7.1.2)\n",
      "Requirement already satisfied: watchdog in e:\\winpy\\wpy64-3771\\python-3.7.7.amd64\\lib\\site-packages (from streamlit) (0.10.2)\n",
      "Requirement already satisfied: numpy in e:\\winpy\\wpy64-3771\\python-3.7.7.amd64\\lib\\site-packages (from streamlit) (1.18.4+mkl)\n",
      "Collecting pympler>=0.9\n",
      "  Using cached Pympler-1.0.1-py3-none-any.whl (164 kB)\n",
      "Requirement already satisfied: toml in e:\\winpy\\wpy64-3771\\python-3.7.7.amd64\\lib\\site-packages (from streamlit) (0.10.1)\n",
      "Requirement already satisfied: tornado>=6.0.3 in e:\\winpy\\wpy64-3771\\python-3.7.7.amd64\\lib\\site-packages (from streamlit) (6.0.4)\n",
      "Requirement already satisfied: pydeck>=0.1.dev5 in e:\\winpy\\wpy64-3771\\python-3.7.7.amd64\\lib\\site-packages (from streamlit) (0.2.1)\n",
      "Requirement already satisfied: blinker>=1.0.0 in e:\\winpy\\wpy64-3771\\python-3.7.7.amd64\\lib\\site-packages (from streamlit) (1.4)\n",
      "Requirement already satisfied: altair>=3.2.0 in e:\\winpy\\wpy64-3771\\python-3.7.7.amd64\\lib\\site-packages (from streamlit) (4.1.0)\n",
      "Requirement already satisfied: packaging>=14.1 in e:\\winpy\\wpy64-3771\\python-3.7.7.amd64\\lib\\site-packages (from streamlit) (20.4)\n",
      "Requirement already satisfied: tzlocal>=1.1 in e:\\winpy\\wpy64-3771\\python-3.7.7.amd64\\lib\\site-packages (from streamlit) (2.1)\n",
      "Requirement already satisfied: requests>=2.4 in e:\\winpy\\wpy64-3771\\python-3.7.7.amd64\\lib\\site-packages (from streamlit) (2.23.0)\n",
      "Collecting rich>=10.11.0\n",
      "  Downloading rich-13.3.1-py3-none-any.whl (239 kB)\n",
      "     -------------------------------------- 239.0/239.0 kB 2.9 MB/s eta 0:00:00\n",
      "Collecting typing-extensions>=3.10.0.0\n",
      "  Downloading typing_extensions-4.4.0-py3-none-any.whl (26 kB)\n",
      "Collecting semver\n",
      "  Using cached semver-2.13.0-py2.py3-none-any.whl (12 kB)\n",
      "Requirement already satisfied: pandas>=0.25 in e:\\winpy\\wpy64-3771\\python-3.7.7.amd64\\lib\\site-packages (from streamlit) (1.0.3)\n",
      "Collecting pyarrow>=4.0\n",
      "  Downloading pyarrow-11.0.0-cp37-cp37m-win_amd64.whl (20.6 MB)\n",
      "     ---------------------------------------- 20.6/20.6 MB 4.3 MB/s eta 0:00:00\n",
      "Requirement already satisfied: importlib-metadata>=1.4 in e:\\winpy\\wpy64-3771\\python-3.7.7.amd64\\lib\\site-packages (from streamlit) (1.6.0)\n",
      "Collecting gitpython!=3.1.19\n",
      "  Downloading GitPython-3.1.30-py3-none-any.whl (184 kB)\n",
      "     -------------------------------------- 184.0/184.0 kB 2.8 MB/s eta 0:00:00\n",
      "Requirement already satisfied: python-dateutil in e:\\winpy\\wpy64-3771\\python-3.7.7.amd64\\lib\\site-packages (from streamlit) (2.8.1)\n",
      "Requirement already satisfied: pillow>=6.2.0 in e:\\winpy\\wpy64-3771\\python-3.7.7.amd64\\lib\\site-packages (from streamlit) (7.1.2)\n",
      "Requirement already satisfied: toolz in e:\\winpy\\wpy64-3771\\python-3.7.7.amd64\\lib\\site-packages (from altair>=3.2.0->streamlit) (0.10.0)\n",
      "Requirement already satisfied: entrypoints in e:\\winpy\\wpy64-3771\\python-3.7.7.amd64\\lib\\site-packages (from altair>=3.2.0->streamlit) (0.3)\n",
      "Requirement already satisfied: jinja2 in e:\\winpy\\wpy64-3771\\python-3.7.7.amd64\\lib\\site-packages (from altair>=3.2.0->streamlit) (2.11.2)\n",
      "Requirement already satisfied: jsonschema in e:\\winpy\\wpy64-3771\\python-3.7.7.amd64\\lib\\site-packages (from altair>=3.2.0->streamlit) (3.2.0)\n",
      "Collecting gitdb<5,>=4.0.1\n",
      "  Downloading gitdb-4.0.10-py3-none-any.whl (62 kB)\n",
      "     ---------------------------------------- 62.7/62.7 kB 3.3 MB/s eta 0:00:00\n",
      "Requirement already satisfied: zipp>=0.5 in e:\\winpy\\wpy64-3771\\python-3.7.7.amd64\\lib\\site-packages (from importlib-metadata>=1.4->streamlit) (3.1.0)\n",
      "Requirement already satisfied: pyparsing>=2.0.2 in e:\\winpy\\wpy64-3771\\python-3.7.7.amd64\\lib\\site-packages (from packaging>=14.1->streamlit) (2.4.7)\n",
      "Requirement already satisfied: six in e:\\winpy\\wpy64-3771\\python-3.7.7.amd64\\lib\\site-packages (from packaging>=14.1->streamlit) (1.14.0)\n",
      "Requirement already satisfied: pytz>=2017.2 in e:\\winpy\\wpy64-3771\\python-3.7.7.amd64\\lib\\site-packages (from pandas>=0.25->streamlit) (2020.1)\n",
      "Requirement already satisfied: setuptools in e:\\winpy\\wpy64-3771\\python-3.7.7.amd64\\lib\\site-packages (from protobuf<4,>=3.12->streamlit) (46.4.0)\n",
      "Requirement already satisfied: traitlets>=4.3.2 in e:\\winpy\\wpy64-3771\\python-3.7.7.amd64\\lib\\site-packages (from pydeck>=0.1.dev5->streamlit) (4.3.3)\n",
      "Requirement already satisfied: ipykernel>=5.1.2 in e:\\winpy\\wpy64-3771\\python-3.7.7.amd64\\lib\\site-packages (from pydeck>=0.1.dev5->streamlit) (5.2.1)\n",
      "Requirement already satisfied: ipywidgets>=7.0.0 in e:\\winpy\\wpy64-3771\\python-3.7.7.amd64\\lib\\site-packages (from pydeck>=0.1.dev5->streamlit) (7.5.1)\n",
      "Requirement already satisfied: idna<3,>=2.5 in e:\\winpy\\wpy64-3771\\python-3.7.7.amd64\\lib\\site-packages (from requests>=2.4->streamlit) (2.9)\n",
      "Requirement already satisfied: urllib3!=1.25.0,!=1.25.1,<1.26,>=1.21.1 in e:\\winpy\\wpy64-3771\\python-3.7.7.amd64\\lib\\site-packages (from requests>=2.4->streamlit) (1.25.11)\n",
      "Requirement already satisfied: certifi>=2017.4.17 in e:\\winpy\\wpy64-3771\\python-3.7.7.amd64\\lib\\site-packages (from requests>=2.4->streamlit) (2020.4.5.1)\n",
      "Requirement already satisfied: chardet<4,>=3.0.2 in e:\\winpy\\wpy64-3771\\python-3.7.7.amd64\\lib\\site-packages (from requests>=2.4->streamlit) (3.0.4)\n",
      "Collecting markdown-it-py<3.0.0,>=2.1.0\n",
      "  Downloading markdown_it_py-2.1.0-py3-none-any.whl (84 kB)\n",
      "     ---------------------------------------- 84.5/84.5 kB 4.6 MB/s eta 0:00:00\n",
      "Collecting pygments<3.0.0,>=2.14.0\n",
      "  Downloading Pygments-2.14.0-py3-none-any.whl (1.1 MB)\n",
      "     ---------------------------------------- 1.1/1.1 MB 8.9 MB/s eta 0:00:00\n",
      "Requirement already satisfied: decorator>=3.4.0 in e:\\winpy\\wpy64-3771\\python-3.7.7.amd64\\lib\\site-packages (from validators>=0.2->streamlit) (4.4.2)\n",
      "Requirement already satisfied: pathtools>=0.1.1 in e:\\winpy\\wpy64-3771\\python-3.7.7.amd64\\lib\\site-packages (from watchdog->streamlit) (0.1.2)\n",
      "Collecting smmap<6,>=3.0.1\n",
      "  Downloading smmap-5.0.0-py3-none-any.whl (24 kB)\n",
      "Requirement already satisfied: jupyter-client in e:\\winpy\\wpy64-3771\\python-3.7.7.amd64\\lib\\site-packages (from ipykernel>=5.1.2->pydeck>=0.1.dev5->streamlit) (6.1.3)\n",
      "Requirement already satisfied: ipython>=5.0.0 in e:\\winpy\\wpy64-3771\\python-3.7.7.amd64\\lib\\site-packages (from ipykernel>=5.1.2->pydeck>=0.1.dev5->streamlit) (7.14.0)\n",
      "Requirement already satisfied: nbformat>=4.2.0 in e:\\winpy\\wpy64-3771\\python-3.7.7.amd64\\lib\\site-packages (from ipywidgets>=7.0.0->pydeck>=0.1.dev5->streamlit) (5.0.6)\n",
      "Requirement already satisfied: widgetsnbextension~=3.5.0 in e:\\winpy\\wpy64-3771\\python-3.7.7.amd64\\lib\\site-packages (from ipywidgets>=7.0.0->pydeck>=0.1.dev5->streamlit) (3.5.1)\n",
      "Requirement already satisfied: MarkupSafe>=0.23 in e:\\winpy\\wpy64-3771\\python-3.7.7.amd64\\lib\\site-packages (from jinja2->altair>=3.2.0->streamlit) (1.1.1)\n",
      "Collecting mdurl~=0.1\n",
      "  Downloading mdurl-0.1.2-py3-none-any.whl (10.0 kB)\n",
      "Requirement already satisfied: ipython-genutils in e:\\winpy\\wpy64-3771\\python-3.7.7.amd64\\lib\\site-packages (from traitlets>=4.3.2->pydeck>=0.1.dev5->streamlit) (0.2.0)\n",
      "Requirement already satisfied: pyrsistent>=0.14.0 in e:\\winpy\\wpy64-3771\\python-3.7.7.amd64\\lib\\site-packages (from jsonschema->altair>=3.2.0->streamlit) (0.16.0)\n",
      "Requirement already satisfied: attrs>=17.4.0 in e:\\winpy\\wpy64-3771\\python-3.7.7.amd64\\lib\\site-packages (from jsonschema->altair>=3.2.0->streamlit) (19.3.0)\n",
      "Requirement already satisfied: backcall in e:\\winpy\\wpy64-3771\\python-3.7.7.amd64\\lib\\site-packages (from ipython>=5.0.0->ipykernel>=5.1.2->pydeck>=0.1.dev5->streamlit) (0.1.0)\n",
      "Requirement already satisfied: jedi>=0.10 in e:\\winpy\\wpy64-3771\\python-3.7.7.amd64\\lib\\site-packages (from ipython>=5.0.0->ipykernel>=5.1.2->pydeck>=0.1.dev5->streamlit) (0.17.0)\n",
      "Requirement already satisfied: pickleshare in e:\\winpy\\wpy64-3771\\python-3.7.7.amd64\\lib\\site-packages (from ipython>=5.0.0->ipykernel>=5.1.2->pydeck>=0.1.dev5->streamlit) (0.7.5)\n",
      "Requirement already satisfied: prompt-toolkit!=3.0.0,!=3.0.1,<3.1.0,>=2.0.0 in e:\\winpy\\wpy64-3771\\python-3.7.7.amd64\\lib\\site-packages (from ipython>=5.0.0->ipykernel>=5.1.2->pydeck>=0.1.dev5->streamlit) (3.0.5)\n",
      "Requirement already satisfied: colorama in e:\\winpy\\wpy64-3771\\python-3.7.7.amd64\\lib\\site-packages (from ipython>=5.0.0->ipykernel>=5.1.2->pydeck>=0.1.dev5->streamlit) (0.4.3)\n",
      "Requirement already satisfied: jupyter-core in e:\\winpy\\wpy64-3771\\python-3.7.7.amd64\\lib\\site-packages (from nbformat>=4.2.0->ipywidgets>=7.0.0->pydeck>=0.1.dev5->streamlit) (4.6.3)\n",
      "Requirement already satisfied: notebook>=4.4.1 in e:\\winpy\\wpy64-3771\\python-3.7.7.amd64\\lib\\site-packages (from widgetsnbextension~=3.5.0->ipywidgets>=7.0.0->pydeck>=0.1.dev5->streamlit) (6.0.3)\n",
      "Requirement already satisfied: pyzmq>=13 in e:\\winpy\\wpy64-3771\\python-3.7.7.amd64\\lib\\site-packages (from jupyter-client->ipykernel>=5.1.2->pydeck>=0.1.dev5->streamlit) (19.0.1)\n",
      "Requirement already satisfied: parso>=0.5.2 in e:\\winpy\\wpy64-3771\\python-3.7.7.amd64\\lib\\site-packages (from jedi>=0.10->ipython>=5.0.0->ipykernel>=5.1.2->pydeck>=0.1.dev5->streamlit) (0.7.0)\n",
      "Requirement already satisfied: pywin32>=1.0 in e:\\winpy\\wpy64-3771\\python-3.7.7.amd64\\lib\\site-packages (from jupyter-core->nbformat>=4.2.0->ipywidgets>=7.0.0->pydeck>=0.1.dev5->streamlit) (227)\n",
      "Requirement already satisfied: terminado>=0.8.1 in e:\\winpy\\wpy64-3771\\python-3.7.7.amd64\\lib\\site-packages (from notebook>=4.4.1->widgetsnbextension~=3.5.0->ipywidgets>=7.0.0->pydeck>=0.1.dev5->streamlit) (0.8.3)\n",
      "Requirement already satisfied: Send2Trash in e:\\winpy\\wpy64-3771\\python-3.7.7.amd64\\lib\\site-packages (from notebook>=4.4.1->widgetsnbextension~=3.5.0->ipywidgets>=7.0.0->pydeck>=0.1.dev5->streamlit) (1.5.0)\n",
      "Requirement already satisfied: prometheus-client in e:\\winpy\\wpy64-3771\\python-3.7.7.amd64\\lib\\site-packages (from notebook>=4.4.1->widgetsnbextension~=3.5.0->ipywidgets>=7.0.0->pydeck>=0.1.dev5->streamlit) (0.7.1)\n",
      "Requirement already satisfied: nbconvert in e:\\winpy\\wpy64-3771\\python-3.7.7.amd64\\lib\\site-packages (from notebook>=4.4.1->widgetsnbextension~=3.5.0->ipywidgets>=7.0.0->pydeck>=0.1.dev5->streamlit) (5.6.1)\n",
      "Requirement already satisfied: wcwidth in e:\\winpy\\wpy64-3771\\python-3.7.7.amd64\\lib\\site-packages (from prompt-toolkit!=3.0.0,!=3.0.1,<3.1.0,>=2.0.0->ipython>=5.0.0->ipykernel>=5.1.2->pydeck>=0.1.dev5->streamlit) (0.1.9)\n",
      "Requirement already satisfied: pywinpty>=0.5 in e:\\winpy\\wpy64-3771\\python-3.7.7.amd64\\lib\\site-packages (from terminado>=0.8.1->notebook>=4.4.1->widgetsnbextension~=3.5.0->ipywidgets>=7.0.0->pydeck>=0.1.dev5->streamlit) (0.5.7)\n",
      "Requirement already satisfied: bleach in e:\\winpy\\wpy64-3771\\python-3.7.7.amd64\\lib\\site-packages (from nbconvert->notebook>=4.4.1->widgetsnbextension~=3.5.0->ipywidgets>=7.0.0->pydeck>=0.1.dev5->streamlit) (3.1.5)\n",
      "Requirement already satisfied: mistune<2,>=0.8.1 in e:\\winpy\\wpy64-3771\\python-3.7.7.amd64\\lib\\site-packages (from nbconvert->notebook>=4.4.1->widgetsnbextension~=3.5.0->ipywidgets>=7.0.0->pydeck>=0.1.dev5->streamlit) (0.8.4)\n",
      "Requirement already satisfied: defusedxml in e:\\winpy\\wpy64-3771\\python-3.7.7.amd64\\lib\\site-packages (from nbconvert->notebook>=4.4.1->widgetsnbextension~=3.5.0->ipywidgets>=7.0.0->pydeck>=0.1.dev5->streamlit) (0.6.0)\n",
      "Requirement already satisfied: testpath in e:\\winpy\\wpy64-3771\\python-3.7.7.amd64\\lib\\site-packages (from nbconvert->notebook>=4.4.1->widgetsnbextension~=3.5.0->ipywidgets>=7.0.0->pydeck>=0.1.dev5->streamlit) (0.4.4)\n",
      "Requirement already satisfied: pandocfilters>=1.4.1 in e:\\winpy\\wpy64-3771\\python-3.7.7.amd64\\lib\\site-packages (from nbconvert->notebook>=4.4.1->widgetsnbextension~=3.5.0->ipywidgets>=7.0.0->pydeck>=0.1.dev5->streamlit) (1.4.2)\n",
      "Requirement already satisfied: webencodings in e:\\winpy\\wpy64-3771\\python-3.7.7.amd64\\lib\\site-packages (from bleach->nbconvert->notebook>=4.4.1->widgetsnbextension~=3.5.0->ipywidgets>=7.0.0->pydeck>=0.1.dev5->streamlit) (0.5.1)\n",
      "Building wheels for collected packages: validators\n",
      "  Building wheel for validators (setup.py): started\n",
      "  Building wheel for validators (setup.py): finished with status 'done'\n",
      "  Created wheel for validators: filename=validators-0.20.0-py3-none-any.whl size=19570 sha256=40786e82e9d70ca1ca18e814f734e47718ab78c3da599eda2dac96e6ea33828c\n",
      "  Stored in directory: c:\\users\\alexl\\appdata\\local\\pip\\cache\\wheels\\5f\\55\\ab\\36a76989f7f88d9ca7b1f68da6d94252bb6a8d6ad4f18e04e9\n",
      "Successfully built validators\n",
      "Installing collected packages: validators, typing-extensions, smmap, semver, pympler, pygments, pyarrow, mdurl, markdown-it-py, gitdb, rich, gitpython, streamlit\n",
      "  Attempting uninstall: typing-extensions\n",
      "    Found existing installation: typing-extensions 3.7.4.2\n",
      "    Uninstalling typing-extensions-3.7.4.2:\n",
      "      Successfully uninstalled typing-extensions-3.7.4.2\n",
      "  Attempting uninstall: pygments\n",
      "    Found existing installation: Pygments 2.6.1\n",
      "    Uninstalling Pygments-2.6.1:\n",
      "      Successfully uninstalled Pygments-2.6.1\n",
      "  Attempting uninstall: pyarrow\n",
      "    Found existing installation: pyarrow 0.17.1\n",
      "    Uninstalling pyarrow-0.17.1:\n",
      "      Successfully uninstalled pyarrow-0.17.1\n",
      "Successfully installed gitdb-4.0.10 gitpython-3.1.30 markdown-it-py-2.1.0 mdurl-0.1.2 pyarrow-11.0.0 pygments-2.14.0 pympler-1.0.1 rich-13.3.1 semver-2.13.0 smmap-5.0.0 streamlit-1.18.1 typing-extensions-4.4.0 validators-0.20.0\n"
     ]
    }
   ],
   "source": [
    "!pip install streamlit"
   ]
  },
  {
   "cell_type": "code",
   "execution_count": null,
   "metadata": {},
   "outputs": [],
   "source": [
    "!pip install plotly --upgrade"
   ]
  },
  {
   "cell_type": "code",
   "execution_count": 5,
   "metadata": {},
   "outputs": [
    {
     "name": "stdout",
     "output_type": "stream",
     "text": [
      "Requirement already satisfied: numpy in e:\\winpy\\wpy64-3771\\python-3.7.7.amd64\\lib\\site-packages (1.18.4+mkl)"
     ]
    },
    {
     "name": "stderr",
     "output_type": "stream",
     "text": [
      "\n",
      "[notice] A new release of pip available: 22.2.2 -> 23.0\n",
      "[notice] To update, run: python.exe -m pip install --upgrade pip\n"
     ]
    },
    {
     "name": "stdout",
     "output_type": "stream",
     "text": [
      "\n"
     ]
    }
   ],
   "source": [
    "!pip install numpy"
   ]
  },
  {
   "cell_type": "code",
   "execution_count": 2,
   "metadata": {},
   "outputs": [
    {
     "ename": "AttributeError",
     "evalue": "module 'plotly.graph_objs.layout.template.data' has no attribute 'Icicle'",
     "output_type": "error",
     "traceback": [
      "\u001b[1;31m---------------------------------------------------------------------------\u001b[0m",
      "\u001b[1;31mAttributeError\u001b[0m                            Traceback (most recent call last)",
      "\u001b[1;32m<ipython-input-2-47c999d4101c>\u001b[0m in \u001b[0;36m<module>\u001b[1;34m\u001b[0m\n\u001b[1;32m----> 1\u001b[1;33m \u001b[1;32mimport\u001b[0m \u001b[0mstreamlit\u001b[0m \u001b[1;32mas\u001b[0m \u001b[0mst\u001b[0m\u001b[1;33m\u001b[0m\u001b[1;33m\u001b[0m\u001b[0m\n\u001b[0m\u001b[0;32m      2\u001b[0m \u001b[1;32mimport\u001b[0m \u001b[0mpandas\u001b[0m \u001b[1;32mas\u001b[0m \u001b[0mpd\u001b[0m\u001b[1;33m\u001b[0m\u001b[1;33m\u001b[0m\u001b[0m\n\u001b[0;32m      3\u001b[0m \u001b[1;32mimport\u001b[0m \u001b[0mnumpy\u001b[0m \u001b[1;32mas\u001b[0m \u001b[0mnp\u001b[0m\u001b[1;33m\u001b[0m\u001b[1;33m\u001b[0m\u001b[0m\n\u001b[0;32m      4\u001b[0m \u001b[1;33m\u001b[0m\u001b[0m\n\u001b[0;32m      5\u001b[0m \u001b[0mst\u001b[0m\u001b[1;33m.\u001b[0m\u001b[0mtitle\u001b[0m\u001b[1;33m(\u001b[0m\u001b[1;34m'Uber pickups in NYC'\u001b[0m\u001b[1;33m)\u001b[0m\u001b[1;33m\u001b[0m\u001b[1;33m\u001b[0m\u001b[0m\n",
      "\u001b[1;32mE:\\winpy\\WPy64-3771\\python-3.7.7.amd64\\lib\\site-packages\\streamlit\\__init__.py\u001b[0m in \u001b[0;36m<module>\u001b[1;34m\u001b[0m\n\u001b[0;32m     53\u001b[0m \u001b[0m__version__\u001b[0m \u001b[1;33m=\u001b[0m \u001b[0m_STREAMLIT_VERSION_STRING\u001b[0m\u001b[1;33m\u001b[0m\u001b[1;33m\u001b[0m\u001b[0m\n\u001b[0;32m     54\u001b[0m \u001b[1;33m\u001b[0m\u001b[0m\n\u001b[1;32m---> 55\u001b[1;33m \u001b[1;32mfrom\u001b[0m \u001b[0mstreamlit\u001b[0m\u001b[1;33m.\u001b[0m\u001b[0mdelta_generator\u001b[0m \u001b[1;32mimport\u001b[0m \u001b[0mDeltaGenerator\u001b[0m \u001b[1;32mas\u001b[0m \u001b[0m_DeltaGenerator\u001b[0m\u001b[1;33m\u001b[0m\u001b[1;33m\u001b[0m\u001b[0m\n\u001b[0m\u001b[0;32m     56\u001b[0m \u001b[1;32mfrom\u001b[0m \u001b[0mstreamlit\u001b[0m\u001b[1;33m.\u001b[0m\u001b[0mproto\u001b[0m\u001b[1;33m.\u001b[0m\u001b[0mRootContainer_pb2\u001b[0m \u001b[1;32mimport\u001b[0m \u001b[0mRootContainer\u001b[0m \u001b[1;32mas\u001b[0m \u001b[0m_RootContainer\u001b[0m\u001b[1;33m\u001b[0m\u001b[1;33m\u001b[0m\u001b[0m\n\u001b[0;32m     57\u001b[0m from streamlit.runtime.caching import (\n",
      "\u001b[1;32mE:\\winpy\\WPy64-3771\\python-3.7.7.amd64\\lib\\site-packages\\streamlit\\delta_generator.py\u001b[0m in \u001b[0;36m<module>\u001b[1;34m\u001b[0m\n\u001b[0;32m     72\u001b[0m \u001b[1;32mfrom\u001b[0m \u001b[0mstreamlit\u001b[0m\u001b[1;33m.\u001b[0m\u001b[0melements\u001b[0m\u001b[1;33m.\u001b[0m\u001b[0mmultiselect\u001b[0m \u001b[1;32mimport\u001b[0m \u001b[0mMultiSelectMixin\u001b[0m\u001b[1;33m\u001b[0m\u001b[1;33m\u001b[0m\u001b[0m\n\u001b[0;32m     73\u001b[0m \u001b[1;32mfrom\u001b[0m \u001b[0mstreamlit\u001b[0m\u001b[1;33m.\u001b[0m\u001b[0melements\u001b[0m\u001b[1;33m.\u001b[0m\u001b[0mnumber_input\u001b[0m \u001b[1;32mimport\u001b[0m \u001b[0mNumberInputMixin\u001b[0m\u001b[1;33m\u001b[0m\u001b[1;33m\u001b[0m\u001b[0m\n\u001b[1;32m---> 74\u001b[1;33m \u001b[1;32mfrom\u001b[0m \u001b[0mstreamlit\u001b[0m\u001b[1;33m.\u001b[0m\u001b[0melements\u001b[0m\u001b[1;33m.\u001b[0m\u001b[0mplotly_chart\u001b[0m \u001b[1;32mimport\u001b[0m \u001b[0mPlotlyMixin\u001b[0m\u001b[1;33m\u001b[0m\u001b[1;33m\u001b[0m\u001b[0m\n\u001b[0m\u001b[0;32m     75\u001b[0m \u001b[1;32mfrom\u001b[0m \u001b[0mstreamlit\u001b[0m\u001b[1;33m.\u001b[0m\u001b[0melements\u001b[0m\u001b[1;33m.\u001b[0m\u001b[0mprogress\u001b[0m \u001b[1;32mimport\u001b[0m \u001b[0mProgressMixin\u001b[0m\u001b[1;33m\u001b[0m\u001b[1;33m\u001b[0m\u001b[0m\n\u001b[0;32m     76\u001b[0m \u001b[1;32mfrom\u001b[0m \u001b[0mstreamlit\u001b[0m\u001b[1;33m.\u001b[0m\u001b[0melements\u001b[0m\u001b[1;33m.\u001b[0m\u001b[0mpyplot\u001b[0m \u001b[1;32mimport\u001b[0m \u001b[0mPyplotMixin\u001b[0m\u001b[1;33m\u001b[0m\u001b[1;33m\u001b[0m\u001b[0m\n",
      "\u001b[1;32mE:\\winpy\\WPy64-3771\\python-3.7.7.amd64\\lib\\site-packages\\streamlit\\elements\\plotly_chart.py\u001b[0m in \u001b[0;36m<module>\u001b[1;34m\u001b[0m\n\u001b[0;32m     39\u001b[0m     \u001b[1;32mimport\u001b[0m \u001b[0mplotly\u001b[0m\u001b[1;33m.\u001b[0m\u001b[0mio\u001b[0m \u001b[1;32mas\u001b[0m \u001b[0mpio\u001b[0m\u001b[1;33m\u001b[0m\u001b[1;33m\u001b[0m\u001b[0m\n\u001b[0;32m     40\u001b[0m \u001b[1;33m\u001b[0m\u001b[0m\n\u001b[1;32m---> 41\u001b[1;33m     \u001b[1;32mimport\u001b[0m \u001b[0mstreamlit\u001b[0m\u001b[1;33m.\u001b[0m\u001b[0melements\u001b[0m\u001b[1;33m.\u001b[0m\u001b[0mlib\u001b[0m\u001b[1;33m.\u001b[0m\u001b[0mstreamlit_plotly_theme\u001b[0m\u001b[1;33m\u001b[0m\u001b[1;33m\u001b[0m\u001b[0m\n\u001b[0m\u001b[0;32m     42\u001b[0m \u001b[1;33m\u001b[0m\u001b[0m\n\u001b[0;32m     43\u001b[0m     \u001b[0mpio\u001b[0m\u001b[1;33m.\u001b[0m\u001b[0mtemplates\u001b[0m\u001b[1;33m.\u001b[0m\u001b[0mdefault\u001b[0m \u001b[1;33m=\u001b[0m \u001b[1;34m\"streamlit\"\u001b[0m\u001b[1;33m\u001b[0m\u001b[1;33m\u001b[0m\u001b[0m\n",
      "\u001b[1;32mE:\\winpy\\WPy64-3771\\python-3.7.7.amd64\\lib\\site-packages\\streamlit\\elements\\lib\\streamlit_plotly_theme.py\u001b[0m in \u001b[0;36m<module>\u001b[1;34m\u001b[0m\n\u001b[0;32m    114\u001b[0m         ],\n\u001b[0;32m    115\u001b[0m         icicle=[\n\u001b[1;32m--> 116\u001b[1;33m             \u001b[0mgo\u001b[0m\u001b[1;33m.\u001b[0m\u001b[0mlayout\u001b[0m\u001b[1;33m.\u001b[0m\u001b[0mtemplate\u001b[0m\u001b[1;33m.\u001b[0m\u001b[0mdata\u001b[0m\u001b[1;33m.\u001b[0m\u001b[0mIcicle\u001b[0m\u001b[1;33m(\u001b[0m\u001b[0mtextfont\u001b[0m\u001b[1;33m=\u001b[0m\u001b[0mgo\u001b[0m\u001b[1;33m.\u001b[0m\u001b[0micicle\u001b[0m\u001b[1;33m.\u001b[0m\u001b[0mTextfont\u001b[0m\u001b[1;33m(\u001b[0m\u001b[0mcolor\u001b[0m\u001b[1;33m=\u001b[0m\u001b[1;34m\"white\"\u001b[0m\u001b[1;33m)\u001b[0m\u001b[1;33m)\u001b[0m\u001b[1;33m\u001b[0m\u001b[1;33m\u001b[0m\u001b[0m\n\u001b[0m\u001b[0;32m    117\u001b[0m         ],\n\u001b[0;32m    118\u001b[0m         sankey=[\n",
      "\u001b[1;32mE:\\winpy\\WPy64-3771\\python-3.7.7.amd64\\lib\\site-packages\\_plotly_utils\\importers.py\u001b[0m in \u001b[0;36m__getattr__\u001b[1;34m(import_name)\u001b[0m\n\u001b[0;32m     39\u001b[0m         raise AttributeError(\n\u001b[0;32m     40\u001b[0m             \"module {__name__!r} has no attribute {name!r}\".format(\n\u001b[1;32m---> 41\u001b[1;33m                 \u001b[0mname\u001b[0m\u001b[1;33m=\u001b[0m\u001b[0mimport_name\u001b[0m\u001b[1;33m,\u001b[0m \u001b[0m__name__\u001b[0m\u001b[1;33m=\u001b[0m\u001b[0mparent_name\u001b[0m\u001b[1;33m\u001b[0m\u001b[1;33m\u001b[0m\u001b[0m\n\u001b[0m\u001b[0;32m     42\u001b[0m             )\n\u001b[0;32m     43\u001b[0m         )\n",
      "\u001b[1;31mAttributeError\u001b[0m: module 'plotly.graph_objs.layout.template.data' has no attribute 'Icicle'"
     ]
    }
   ],
   "source": [
    "import streamlit as st\n",
    "import pandas as pd\n",
    "import numpy as np\n",
    "\n",
    "st.title('Uber pickups in NYC')\n",
    "\n",
    "DATE_COLUMN = 'date/time'\n",
    "DATA_URL = ('https://s3-us-west-2.amazonaws.com/'\n",
    "            'streamlit-demo-data/uber-raw-data-sep14.csv.gz')\n",
    "\n",
    "@st.cache_data\n",
    "def load_data(nrows):\n",
    "    data = pd.read_csv(DATA_URL, nrows=nrows)\n",
    "    lowercase = lambda x: str(x).lower()\n",
    "    data.rename(lowercase, axis='columns', inplace=True)\n",
    "    data[DATE_COLUMN] = pd.to_datetime(data[DATE_COLUMN])\n",
    "    return data\n",
    "\n",
    "data_load_state = st.text('Loading data...')\n",
    "data = load_data(10000)\n",
    "data_load_state.text(\"Done! (using st.cache_data)\")\n",
    "\n",
    "if st.checkbox('Show raw data'):\n",
    "    st.subheader('Raw data')\n",
    "    st.write(data)\n",
    "\n",
    "st.subheader('Number of pickups by hour')\n",
    "hist_values = np.histogram(data[DATE_COLUMN].dt.hour, bins=24, range=(0,24))[0]\n",
    "st.bar_chart(hist_values)\n",
    "\n",
    "# Some number in the range 0-23\n",
    "hour_to_filter = st.slider('hour', 0, 23, 17)\n",
    "filtered_data = data[data[DATE_COLUMN].dt.hour == hour_to_filter]\n",
    "\n",
    "st.subheader('Map of all pickups at %s:00' % hour_to_filter)\n",
    "st.map(filtered_data)"
   ]
  },
  {
   "cell_type": "code",
   "execution_count": 3,
   "metadata": {
    "scrolled": true
   },
   "outputs": [
    {
     "name": "stdout",
     "output_type": "stream",
     "text": [
      "Collecting pipreqs\n",
      "  Using cached pipreqs-0.4.11-py2.py3-none-any.whl (32 kB)\n",
      "Requirement already satisfied: docopt in e:\\winpy\\wpy64-3771\\python-3.7.7.amd64\\lib\\site-packages (from pipreqs) (0.6.2)\n",
      "Collecting yarg\n",
      "  Using cached yarg-0.1.9-py2.py3-none-any.whl (19 kB)\n",
      "Requirement already satisfied: requests in e:\\winpy\\wpy64-3771\\python-3.7.7.amd64\\lib\\site-packages (from yarg->pipreqs) (2.23.0)\n",
      "Requirement already satisfied: certifi>=2017.4.17 in e:\\winpy\\wpy64-3771\\python-3.7.7.amd64\\lib\\site-packages (from requests->yarg->pipreqs) (2020.4.5.1)\n",
      "Requirement already satisfied: idna<3,>=2.5 in e:\\winpy\\wpy64-3771\\python-3.7.7.amd64\\lib\\site-packages (from requests->yarg->pipreqs) (2.9)\n",
      "Requirement already satisfied: urllib3!=1.25.0,!=1.25.1,<1.26,>=1.21.1 in e:\\winpy\\wpy64-3771\\python-3.7.7.amd64\\lib\\site-packages (from requests->yarg->pipreqs) (1.25.11)\n",
      "Requirement already satisfied: chardet<4,>=3.0.2 in e:\\winpy\\wpy64-3771\\python-3.7.7.amd64\\lib\\site-packages (from requests->yarg->pipreqs) (3.0.4)\n"
     ]
    },
    {
     "name": "stderr",
     "output_type": "stream",
     "text": [
      "\n",
      "[notice] A new release of pip available: 22.2.2 -> 23.0\n",
      "[notice] To update, run: python.exe -m pip install --upgrade pip\n"
     ]
    },
    {
     "name": "stdout",
     "output_type": "stream",
     "text": [
      "Installing collected packages: yarg, pipreqs\n",
      "Successfully installed pipreqs-0.4.11 yarg-0.1.9\n"
     ]
    }
   ],
   "source": [
    "!pip install pipreqs"
   ]
  },
  {
   "cell_type": "code",
   "execution_count": 2,
   "metadata": {},
   "outputs": [
    {
     "name": "stdout",
     "output_type": "stream",
     "text": [
      "Requirement already satisfied: pip in e:\\winpython3.11\\wpy64-31110\\python-3.11.1.amd64\\lib\\site-packages (22.3.1)\n",
      "Collecting pip\n",
      "  Downloading pip-23.0-py3-none-any.whl (2.1 MB)\n",
      "     ---------------------------------------- 2.1/2.1 MB 10.9 MB/s eta 0:00:00\n",
      "Installing collected packages: pip\n",
      "  Attempting uninstall: pip\n",
      "    Found existing installation: pip 22.3.1\n",
      "    Uninstalling pip-22.3.1:\n",
      "      Successfully uninstalled pip-22.3.1\n",
      "Successfully installed pip-23.0\n"
     ]
    }
   ],
   "source": [
    "!python.exe -m pip install --upgrade pip\n"
   ]
  }
 ],
 "metadata": {
  "kernelspec": {
   "display_name": "Python 3",
   "language": "python",
   "name": "python3"
  },
  "language_info": {
   "codemirror_mode": {
    "name": "ipython",
    "version": 3
   },
   "file_extension": ".py",
   "mimetype": "text/x-python",
   "name": "python",
   "nbconvert_exporter": "python",
   "pygments_lexer": "ipython3",
   "version": "3.7.7"
  }
 },
 "nbformat": 4,
 "nbformat_minor": 5
}
